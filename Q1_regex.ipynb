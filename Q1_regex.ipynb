{
 "cells": [
  {
   "cell_type": "markdown",
   "metadata": {},
   "source": [
    "## Importing Libraries"
   ]
  },
  {
   "cell_type": "code",
   "execution_count": 1,
   "metadata": {},
   "outputs": [],
   "source": [
    "import numpy as np\n",
    "import re"
   ]
  },
  {
   "cell_type": "markdown",
   "metadata": {},
   "source": [
    "Using Cornell Movie dialog corpous for the model\n",
    "\n",
    "Access corpous at https://www.cs.cornell.edu/~cristian/Cornell_Movie-Dialogs_Corpus.html"
   ]
  },
  {
   "cell_type": "markdown",
   "metadata": {},
   "source": [
    "### Data Cleaning"
   ]
  },
  {
   "cell_type": "code",
   "execution_count": 2,
   "metadata": {},
   "outputs": [],
   "source": [
    "data=[]\n",
    "with open('movie_lines.txt', 'rb') as f:\n",
    "    for line in f:\n",
    "        data.append(line.decode(errors='ignore'))"
   ]
  },
  {
   "cell_type": "code",
   "execution_count": 3,
   "metadata": {},
   "outputs": [],
   "source": [
    "data=[x.split('+++$+++')[-1].replace('\\n','') for x in data]"
   ]
  },
  {
   "cell_type": "code",
   "execution_count": 4,
   "metadata": {},
   "outputs": [
    {
     "data": {
      "text/plain": [
       "304713"
      ]
     },
     "execution_count": 4,
     "metadata": {},
     "output_type": "execute_result"
    }
   ],
   "source": [
    "len(data)"
   ]
  },
  {
   "cell_type": "code",
   "execution_count": 5,
   "metadata": {},
   "outputs": [],
   "source": [
    "# joining all the lines to form a single text corpus\n",
    "data=\" \".join(data)"
   ]
  },
  {
   "cell_type": "code",
   "execution_count": 6,
   "metadata": {},
   "outputs": [
    {
     "data": {
      "text/plain": [
       "\" They do not!  They do to!  I hope so.  She okay?  Let's go.  Wow  Okay -- you're gonna need to lear\""
      ]
     },
     "execution_count": 6,
     "metadata": {},
     "output_type": "execute_result"
    }
   ],
   "source": [
    "data[:100]"
   ]
  },
  {
   "cell_type": "code",
   "execution_count": 7,
   "metadata": {},
   "outputs": [],
   "source": [
    "def clean(string):\n",
    "    string = re.sub(r\"\\'s\", \" \", string)\n",
    "    string = re.sub(r\"\\'ve\", \" \\'ve\", string)\n",
    "    string = re.sub(r\"n\\'t\", \" n\\'t\", string)\n",
    "    string = re.sub(r\"\\'re\", \" \\'re\", string)\n",
    "    string = re.sub(r\"\\'d\", \" \\'d\", string)\n",
    "    string = re.sub(r\"\\'ll\", \" \\'ll\", string)\n",
    "\n",
    "    return string.strip().lower()"
   ]
  },
  {
   "cell_type": "code",
   "execution_count": 8,
   "metadata": {},
   "outputs": [
    {
     "data": {
      "text/plain": [
       "\"they do not!  they do to!  i hope so.  she okay?  let  go.  wow  okay -- you 're gonna need to learn\""
      ]
     },
     "execution_count": 8,
     "metadata": {},
     "output_type": "execute_result"
    }
   ],
   "source": [
    "clean_data= clean(data)\n",
    "clean_data[:100]"
   ]
  },
  {
   "cell_type": "code",
   "execution_count": 9,
   "metadata": {},
   "outputs": [
    {
     "data": {
      "text/plain": [
       "49576"
      ]
     },
     "execution_count": 9,
     "metadata": {},
     "output_type": "execute_result"
    }
   ],
   "source": [
    "# create a dictionary of unique words in the corpus\n",
    "word_dct= list(set(re.split(r'(?<!\\d)\\.(?!\\d)|[\\?`\\-=~!@#$%^&*()_+\\[\\]{};\\'\\\\:\"|<,/<>?\\s]', clean_data)))\n",
    "word_dct.remove(\"\")\n",
    "len(word_dct)"
   ]
  },
  {
   "cell_type": "code",
   "execution_count": 10,
   "metadata": {},
   "outputs": [
    {
     "data": {
      "text/plain": [
       "['mechanisms',\n",
       " 'currents',\n",
       " 'nickel',\n",
       " 'undetectable',\n",
       " 'skua',\n",
       " 'lernt',\n",
       " 'hypnotize',\n",
       " 'morema',\n",
       " 'gottingen',\n",
       " 'presumption']"
      ]
     },
     "execution_count": 10,
     "metadata": {},
     "output_type": "execute_result"
    }
   ],
   "source": [
    "word_dct[:10]"
   ]
  },
  {
   "cell_type": "code",
   "execution_count": 11,
   "metadata": {},
   "outputs": [
    {
     "data": {
      "text/plain": [
       "(38948, 39985)"
      ]
     },
     "execution_count": 11,
     "metadata": {},
     "output_type": "execute_result"
    }
   ],
   "source": [
    "#reverse dictionary for mapping word to indices\n",
    "rev_dct = {j:i for i,j in enumerate(word_dct)}\n",
    "\n",
    "#checking the index of a random word from corpus\n",
    "rev_dct['hi'],rev_dct['unforeseen']"
   ]
  },
  {
   "cell_type": "code",
   "execution_count": 12,
   "metadata": {},
   "outputs": [],
   "source": [
    "w_count=len(word_dct)"
   ]
  },
  {
   "cell_type": "code",
   "execution_count": 13,
   "metadata": {},
   "outputs": [],
   "source": [
    "#2-d to store count of next word based on current word\n",
    "uni_count=np.zeros((w_count,w_count))\n",
    "\n",
    "#count of current word\n",
    "word_count=np.zeros(w_count)\n",
    "\n",
    "#tokenisation based on spaces and special characters with decimal being taken care of\n",
    "all_words=list(re.split(r'(?<!\\d)\\.(?!\\d)|[\\?`\\-=~!@#$%^&*()_+\\[\\]{};\\'\\\\:\"|<,/<>?\\s]', clean_data))\n",
    "# while '' in all_words: all_words.remove('')\n",
    "all_words=list(filter(('').__ne__, all_words))"
   ]
  },
  {
   "cell_type": "code",
   "execution_count": 14,
   "metadata": {},
   "outputs": [],
   "source": [
    "#iterating throughout the complete corpus to store the count\n",
    "for i in range(0,len(all_words)-1):\n",
    "    prev_index=rev_dct[all_words[i]]\n",
    "    word_count[prev_index]+=1\n",
    "    cur_index =rev_dct[all_words[i+1]]\n",
    "    uni_count[prev_index,cur_index]+=1\n",
    "\n",
    "word_count[rev_dct[all_words[-1]]]+=1"
   ]
  },
  {
   "cell_type": "markdown",
   "metadata": {},
   "source": [
    "## Probability of next word\n",
    "\n",
    "Formula to calculate the probability of next word W’ if the current word is W in the corpus is\n",
    "\n",
    "$$ P(W'|W) = \\frac{\\text{Count}(W,W')}{\\text{Count}(W)} $$\n",
    "\n",
    "where, $ \\text{Count}(W,W’)$ is number of times $W’$ follows $W$ and Count$(W)$ is total occurrence of $W$ in the\n",
    "corpus.\n"
   ]
  },
  {
   "cell_type": "code",
   "execution_count": 15,
   "metadata": {},
   "outputs": [],
   "source": [
    "#calculating probability matrix using word count and next word count using the formula\n",
    "for i in range(len(uni_count)):\n",
    "    uni_count[i]=uni_count[i]/word_count[i]"
   ]
  },
  {
   "cell_type": "code",
   "execution_count": 16,
   "metadata": {},
   "outputs": [],
   "source": [
    "# np.savetxt(\"prob_matrix.csv\", uni_count, delimiter=\",\")"
   ]
  },
  {
   "cell_type": "code",
   "execution_count": 17,
   "metadata": {},
   "outputs": [],
   "source": [
    "#function to predict next words based on a single word.\n",
    "def predict(word,limit=10):\n",
    "    \n",
    "    cur_word=word.lower()\n",
    "    print (cur_word,end=' ')\n",
    "    for i in range(limit):\n",
    "        #index of next word using probability matrix\n",
    "        cur_prob_idx = uni_count[rev_dct[cur_word]]\n",
    "        \n",
    "#         nextW_idx= np.argmax(cur_prob_idx)\n",
    "        nextW_idx = np.random.choice(np.argwhere(cur_prob_idx == np.amax(cur_prob_idx)).ravel())\n",
    "        #index to word using dictionary of words\n",
    "        nextW=word_dct[nextW_idx]\n",
    "        cur_word=nextW\n",
    "        print (nextW,end=' ')\n",
    "    print ()"
   ]
  },
  {
   "cell_type": "code",
   "execution_count": 18,
   "metadata": {},
   "outputs": [
    {
     "name": "stdout",
     "output_type": "stream",
     "text": [
      "great i m not a little girl i m not a \n",
      "enemy is n t know what i m not a little \n",
      "brucie best friend of the way to be a little girl \n",
      "former commander i m not a little girl i m not \n",
      "did n t know what i m not a little girl \n",
      "harry i m not a little girl i m not a \n",
      "dressing room and i m not a little girl i m \n",
      "creative power to be a little girl i m not a \n",
      "already know what i m not a little girl i m \n",
      "feminist prose i m not a little girl i m not \n"
     ]
    }
   ],
   "source": [
    "predict('great')\n",
    "predict(\"enemy\")\n",
    "predict(\"Brucie\")\n",
    "predict('former')\n",
    "predict('Did')\n",
    "predict('Harry')\n",
    "predict('dressing')\n",
    "predict('creative')\n",
    "predict('Already')\n",
    "predict('feminist')"
   ]
  },
  {
   "cell_type": "code",
   "execution_count": null,
   "metadata": {},
   "outputs": [],
   "source": []
  },
  {
   "cell_type": "code",
   "execution_count": null,
   "metadata": {},
   "outputs": [],
   "source": []
  }
 ],
 "metadata": {
  "kernelspec": {
   "display_name": "Python 3",
   "language": "python",
   "name": "python3"
  },
  "language_info": {
   "codemirror_mode": {
    "name": "ipython",
    "version": 3
   },
   "file_extension": ".py",
   "mimetype": "text/x-python",
   "name": "python",
   "nbconvert_exporter": "python",
   "pygments_lexer": "ipython3",
   "version": "3.7.7"
  }
 },
 "nbformat": 4,
 "nbformat_minor": 4
}
