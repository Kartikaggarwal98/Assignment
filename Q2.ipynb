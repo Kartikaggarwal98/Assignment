{
 "cells": [
  {
   "cell_type": "markdown",
   "metadata": {},
   "source": [
    "## Load tweets data"
   ]
  },
  {
   "cell_type": "code",
   "execution_count": 99,
   "metadata": {},
   "outputs": [],
   "source": [
    "data=[]\n",
    "with open('tweets.txt', 'r') as f:\n",
    "    for line in f:\n",
    "        data.append(line[:-2])"
   ]
  },
  {
   "cell_type": "code",
   "execution_count": 100,
   "metadata": {},
   "outputs": [
    {
     "data": {
      "text/plain": [
       "['France? 10 people dead after shooting at HQ.... of satirical weekly newspaper #CharlieHebdo!!!, not only according to witnesses www.t.co/FkYxGmuS5',\n",
       " 'France: 10 people dead after shooting at HQ of satirical weekly newspaper #CharlieHebdo, according to witnesses http://t.co/FkYxGmuS5',\n",
       " '@euronews @TradeDesk_Steve A French crime of passion or another heathen moslem atrocity? @euronews LOL. 5 million Muslims in France, what a disgrace. the french worm president and politicians killed them. tine for croissants no',\n",
       " 'MT @euronews France: 10 dead after shooting at HQ of satirical weekly #CharlieHebdo. If Zionists/Jews did this they&#39;d be nuking Israe',\n",
       " '@j0nathandavis They who? Stupid and partial opinions like this one only add noise to any debate. @nanoSpawn Socialists, Antisemites, anti zionists - usual suspec']"
      ]
     },
     "execution_count": 100,
     "metadata": {},
     "output_type": "execute_result"
    }
   ],
   "source": [
    "data"
   ]
  },
  {
   "cell_type": "markdown",
   "metadata": {},
   "source": [
    "## Class to implement given set of features for each sentence"
   ]
  },
  {
   "cell_type": "code",
   "execution_count": 110,
   "metadata": {},
   "outputs": [],
   "source": [
    "class process:\n",
    "    def __init__(self,string):\n",
    "        self.string=string\n",
    "\n",
    "    def get_wordcount(self):\n",
    "        return len(self.string.split())\n",
    "        \n",
    "    def find_char(self,c):\n",
    "        for pos, char in enumerate(self.string):\n",
    "            if char == c:\n",
    "                return 'Yes'\n",
    "        return 'No'\n",
    "    \n",
    "    def find_period(self):\n",
    "        for ix, iy in zip(self.string,self.string[1:]):\n",
    "            if (ix=='.' and ix == iy):\n",
    "                return 'Yes'\n",
    "        return 'No'\n",
    "\n",
    "    '''\n",
    "    Will Match: http[s]://www.foufos.gr, http://foufos.gr, http://www.foufos.gr/kino, www.mp3.com\n",
    "    Wont match, http://www.com, www.com, www.google\n",
    "    '''\n",
    "    def find_url(self):\n",
    "        for token in self.string.split():\n",
    "            splits= token.split('/')\n",
    "\n",
    "            #http check in url\n",
    "            if (splits[0]=='http:' or splits[0]=='https:'):\n",
    "                url=splits[2]\n",
    "            else:\n",
    "                url=splits[0]\n",
    "\n",
    "            #url syntax check after http\n",
    "            url_split = url.split('.')\n",
    "            if(url_split[0]=='www' and len(url_split)>=3) or (url_split[0]!='www' and len(url_split)>=2):\n",
    "                return 'Yes'\n",
    "        return 'No'\n",
    "\n",
    "    def find_neg(self):\n",
    "        for token in self.string.split():\n",
    "            neg_words= ['n\\'t','no','not','nothing','never','none','neither','nor']\n",
    "            if (token in neg_words[1:]) or (token[-3:]==neg_words[0]):\n",
    "                return 'Yes'\n",
    "        return 'No'\n",
    "\n",
    "    def count_chars(self):\n",
    "        spec_nums= list(range(33,48))+list(range(58,65))+list(range(91,97))\n",
    "        spec_chars = [chr(x) for x in spec_nums]\n",
    "\n",
    "        count=0\n",
    "        for pos,char in enumerate(self.string):\n",
    "            if(char in spec_chars):\n",
    "                count+=1\n",
    "        return count"
   ]
  },
  {
   "cell_type": "markdown",
   "metadata": {},
   "source": [
    "## Populating Dataframe corresponding each sentence"
   ]
  },
  {
   "cell_type": "code",
   "execution_count": 1,
   "metadata": {},
   "outputs": [],
   "source": [
    "import pandas as pd\n",
    "\n",
    "df = pd.DataFrame(columns=['1','2a','2b','2c','2d','2e','3'])"
   ]
  },
  {
   "cell_type": "code",
   "execution_count": 118,
   "metadata": {},
   "outputs": [],
   "source": [
    "for line in data:\n",
    "    a=process(line)\n",
    "    df.loc[len(df)] = [a.get_wordcount(),a.find_char('?'),a.find_char('!'),a.find_period(),a.find_url(),a.find_neg(),a.count_chars()]"
   ]
  },
  {
   "cell_type": "code",
   "execution_count": 119,
   "metadata": {},
   "outputs": [
    {
     "data": {
      "text/html": [
       "<div>\n",
       "<style scoped>\n",
       "    .dataframe tbody tr th:only-of-type {\n",
       "        vertical-align: middle;\n",
       "    }\n",
       "\n",
       "    .dataframe tbody tr th {\n",
       "        vertical-align: top;\n",
       "    }\n",
       "\n",
       "    .dataframe thead th {\n",
       "        text-align: right;\n",
       "    }\n",
       "</style>\n",
       "<table border=\"1\" class=\"dataframe\">\n",
       "  <thead>\n",
       "    <tr style=\"text-align: right;\">\n",
       "      <th></th>\n",
       "      <th>1</th>\n",
       "      <th>2a</th>\n",
       "      <th>2b</th>\n",
       "      <th>2c</th>\n",
       "      <th>2d</th>\n",
       "      <th>2e</th>\n",
       "      <th>3</th>\n",
       "    </tr>\n",
       "  </thead>\n",
       "  <tbody>\n",
       "    <tr>\n",
       "      <th>0</th>\n",
       "      <td>19</td>\n",
       "      <td>Yes</td>\n",
       "      <td>Yes</td>\n",
       "      <td>Yes</td>\n",
       "      <td>Yes</td>\n",
       "      <td>Yes</td>\n",
       "      <td>13</td>\n",
       "    </tr>\n",
       "    <tr>\n",
       "      <th>1</th>\n",
       "      <td>17</td>\n",
       "      <td>No</td>\n",
       "      <td>No</td>\n",
       "      <td>No</td>\n",
       "      <td>Yes</td>\n",
       "      <td>No</td>\n",
       "      <td>8</td>\n",
       "    </tr>\n",
       "    <tr>\n",
       "      <th>2</th>\n",
       "      <td>34</td>\n",
       "      <td>Yes</td>\n",
       "      <td>No</td>\n",
       "      <td>No</td>\n",
       "      <td>Yes</td>\n",
       "      <td>Yes</td>\n",
       "      <td>9</td>\n",
       "    </tr>\n",
       "    <tr>\n",
       "      <th>3</th>\n",
       "      <td>21</td>\n",
       "      <td>No</td>\n",
       "      <td>No</td>\n",
       "      <td>No</td>\n",
       "      <td>Yes</td>\n",
       "      <td>No</td>\n",
       "      <td>8</td>\n",
       "    </tr>\n",
       "    <tr>\n",
       "      <th>4</th>\n",
       "      <td>24</td>\n",
       "      <td>Yes</td>\n",
       "      <td>No</td>\n",
       "      <td>No</td>\n",
       "      <td>Yes</td>\n",
       "      <td>No</td>\n",
       "      <td>7</td>\n",
       "    </tr>\n",
       "  </tbody>\n",
       "</table>\n",
       "</div>"
      ],
      "text/plain": [
       "    1   2a   2b   2c   2d   2e   3\n",
       "0  19  Yes  Yes  Yes  Yes  Yes  13\n",
       "1  17   No   No   No  Yes   No   8\n",
       "2  34  Yes   No   No  Yes  Yes   9\n",
       "3  21   No   No   No  Yes   No   8\n",
       "4  24  Yes   No   No  Yes   No   7"
      ]
     },
     "execution_count": 119,
     "metadata": {},
     "output_type": "execute_result"
    }
   ],
   "source": [
    "df.head()"
   ]
  },
  {
   "cell_type": "code",
   "execution_count": null,
   "metadata": {},
   "outputs": [],
   "source": []
  }
 ],
 "metadata": {
  "kernelspec": {
   "display_name": "Python 3",
   "language": "python",
   "name": "python3"
  },
  "language_info": {
   "codemirror_mode": {
    "name": "ipython",
    "version": 3
   },
   "file_extension": ".py",
   "mimetype": "text/x-python",
   "name": "python",
   "nbconvert_exporter": "python",
   "pygments_lexer": "ipython3",
   "version": "3.7.7"
  }
 },
 "nbformat": 4,
 "nbformat_minor": 4
}
