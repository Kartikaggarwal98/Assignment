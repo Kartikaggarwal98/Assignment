{
 "cells": [
  {
   "cell_type": "markdown",
   "metadata": {},
   "source": [
    "### Install required libraries to collect the data. \n",
    "We use praw to collect data from subreddit."
   ]
  },
  {
   "cell_type": "code",
   "execution_count": 5,
   "metadata": {},
   "outputs": [],
   "source": [
    "import pymongo\n",
    "from pymongo import MongoClient\n",
    "import praw\n",
    "from praw.models import MoreComments\n",
    "import pandas as pd\n",
    "from bs4 import BeautifulSoup\n",
    "import re"
   ]
  },
  {
   "cell_type": "markdown",
   "metadata": {},
   "source": [
    "Connect to mongo client"
   ]
  },
  {
   "cell_type": "code",
   "execution_count": 6,
   "metadata": {},
   "outputs": [],
   "source": [
    "client = MongoClient('mongodb://localhost:27017/')\n",
    "db = client[\"reddit\"]"
   ]
  },
  {
   "cell_type": "markdown",
   "metadata": {},
   "source": [
    "Connect to reddit api using secret keys from your account."
   ]
  },
  {
   "cell_type": "code",
   "execution_count": 8,
   "metadata": {},
   "outputs": [],
   "source": [
    "### Reddit API Credentials\n",
    "c_id = \"CInyAtxOgk5RGw\"               # Personal Use Script (14 char)\n",
    "c_secret = \"aDZcH_6ptRI2g3bpcbZ_ROl-n7w\"           # Secret key (27 char)\n",
    "u_a = \"Flare_tagger\"               # App name\n",
    "usrnm = \"kartikaggarwal98\"      # Reddit username\n",
    "passwd = \"Kartikagg98\"  "
   ]
  },
  {
   "cell_type": "code",
   "execution_count": 9,
   "metadata": {},
   "outputs": [],
   "source": [
    "reddit = praw.Reddit(client_id = c_id,\n",
    "                     client_secret = c_secret,\n",
    "                     user_agent = u_a,\n",
    "                     username = usrnm,\n",
    "                     password = passwd)\n"
   ]
  },
  {
   "cell_type": "markdown",
   "metadata": {},
   "source": [
    "## Data Collection\n",
    "search for 20 posts through the subreddit for each flair you want.\n",
    "The following data is collected from subreddit [r/india](https://www.reddit.com/r/india/)."
   ]
  },
  {
   "cell_type": "code",
   "execution_count": 10,
   "metadata": {},
   "outputs": [
    {
     "name": "stdout",
     "output_type": "stream",
     "text": [
      "AskIndia\n",
      "Food\n",
      "Non-Political\n",
      "Photography\n",
      "Science/Technology\n",
      "Policy/Economy\n",
      "Politics\n",
      "Business/Finance\n",
      "Sports\n"
     ]
    }
   ],
   "source": [
    "#List of all the flairs. These will be the keys in classification.\n",
    "flairs = [ \"AskIndia\", \"Food\",\"Non-Political\",\n",
    "          \"Photography\", \"Science/Technology\",\"Policy/Economy\",\n",
    "          \"Politics\", \"Business/Finance\",\"Sports\"]\n",
    "\n",
    "subreddit = reddit.subreddit('india')\n",
    "\n",
    "for flair in flairs:\n",
    "    print (flair)\n",
    "    sub_posts = subreddit.search(f\"flair_name:{flair}\",limit=20)\n",
    "    for post in sub_posts:\n",
    "        posts = {\n",
    "        \"body\":str(post.selftext)\n",
    "        }\n",
    "\n",
    "        result = db.posts.insert_one(posts)"
   ]
  },
  {
   "cell_type": "markdown",
   "metadata": {},
   "source": [
    "## Save data in a csv file"
   ]
  },
  {
   "cell_type": "code",
   "execution_count": 11,
   "metadata": {},
   "outputs": [],
   "source": [
    "collection = db.posts\n",
    "posts = pd.DataFrame(list(collection.find()))\n",
    "\n",
    "posts['body'] = posts['body'].apply(lambda x:str(x))\n",
    "\n",
    "\n",
    "#saving the csv file\n",
    "posts.to_csv('./data.csv',index=False)"
   ]
  },
  {
   "cell_type": "code",
   "execution_count": 14,
   "metadata": {},
   "outputs": [
    {
     "data": {
      "text/plain": [
       "Collection(Database(MongoClient(host=['localhost:27017'], document_class=dict, tz_aware=False, connect=True), 'reddit'), 'posts')"
      ]
     },
     "execution_count": 14,
     "metadata": {},
     "output_type": "execute_result"
    }
   ],
   "source": [
    "collection"
   ]
  },
  {
   "cell_type": "code",
   "execution_count": null,
   "metadata": {},
   "outputs": [],
   "source": []
  }
 ],
 "metadata": {
  "kernelspec": {
   "display_name": "Python 3",
   "language": "python",
   "name": "python3"
  },
  "language_info": {
   "codemirror_mode": {
    "name": "ipython",
    "version": 3
   },
   "file_extension": ".py",
   "mimetype": "text/x-python",
   "name": "python",
   "nbconvert_exporter": "python",
   "pygments_lexer": "ipython3",
   "version": "3.7.7"
  }
 },
 "nbformat": 4,
 "nbformat_minor": 4
}
